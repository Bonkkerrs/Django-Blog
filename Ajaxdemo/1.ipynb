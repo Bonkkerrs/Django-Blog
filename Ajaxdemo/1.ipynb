{
 "cells": [
  {
   "cell_type": "code",
   "execution_count": 1,
   "metadata": {
    "collapsed": true
   },
   "outputs": [],
   "source": [
    "import requests"
   ]
  },
  {
   "cell_type": "code",
   "execution_count": 12,
   "outputs": [
    {
     "data": {
      "text/plain": "<Response [200]>"
     },
     "execution_count": 12,
     "metadata": {},
     "output_type": "execute_result"
    }
   ],
   "source": [
    "headers = {\n",
    "    'user-agent':'Mozilla/5.0 (Macintosh; Intel Mac OS X 10_15_7) AppleWebKit/537.36 (KHTML, like Gecko) Chrome/100.0.4896.75 Safari/537.36',\n",
    "    'Cookie':'_ga=GA1.3.112544733.1631520741; UM_distinctid=17df52137dcef3-0e469ac1e96357-36657407-1d73c0-17df52137dd1128; pre.oc.sjtu=ffffffff097f1c6a45525d5f4f58455e445a4a423660; log_session_id=aef21303c954f4c5e2a7be2c13d97376; _normandy_session=P3YSWVKmzYFARNUt9Qj-Ig+T9SK71q7uzUyab4jMhjUzs_ImRw2kMDbMlb9y3WxpICueqR69r-YkxGekAZz5bjtdTe5Y5JWkQ_1qMGSu23oZtkTjUngfcnEQuA3RnIxWbDDHdHFEANGI-YwXkKv5sdc6BwROyZA91vKKdnZKngxyV7OnlLO5UB-_w5x47lMGc0nbAmLqcTQ9hKNS_MRpVYXCP0-oGhNRaQSESgFx1d9QjqubJy_t_tpeRkXPC10Mg_PlZPMbyl8QIFoDU2rqUispTNDR9ftzLNJahR9-qQPSvT9l9_ujDBmaub7YItAdbUQlFtLCVsZeGLe_4QXOTdYx-mt28dT8S-8J_gEXcbcDVDDgbK1I_PkfffHxrx0rKK26WpLc1k2Ggjml12fAdjs.fwjs149eFbiyQXOFgeNzaTd-e9M.YlViVQ; _csrf_token=X/Tz2corApq4889pgvpwT13pgp9/coC98hT6ZnFUh+cex7qWo0lD0om2nBvokTEtCbO6tCoG0v7GJp8DQjX1rg=='\n",
    "}\n",
    "response = requests.get('http://oc.sjtu.edu.cn',headers=headers)\n",
    "response"
   ],
   "metadata": {
    "collapsed": false,
    "pycharm": {
     "name": "#%%\n"
    }
   }
  },
  {
   "cell_type": "code",
   "execution_count": 13,
   "outputs": [],
   "source": [
    "with open('1.html','w') as f:\n",
    "    f.write(response.text)"
   ],
   "metadata": {
    "collapsed": false,
    "pycharm": {
     "name": "#%%\n"
    }
   }
  },
  {
   "cell_type": "code",
   "execution_count": 14,
   "outputs": [],
   "source": [
    "import selenium"
   ],
   "metadata": {
    "collapsed": false,
    "pycharm": {
     "name": "#%%\n"
    }
   }
  },
  {
   "cell_type": "code",
   "execution_count": 15,
   "outputs": [
    {
     "data": {
      "text/plain": "<Response [405]>"
     },
     "execution_count": 15,
     "metadata": {},
     "output_type": "execute_result"
    }
   ],
   "source": [
    "\n",
    "requests.post('https://ids.sjtu.edu.cn/course/findSection',data)"
   ],
   "metadata": {
    "collapsed": false,
    "pycharm": {
     "name": "#%%\n"
    }
   }
  },
  {
   "cell_type": "code",
   "execution_count": null,
   "outputs": [],
   "source": [],
   "metadata": {
    "collapsed": false,
    "pycharm": {
     "name": "#%%\n"
    }
   }
  }
 ],
 "metadata": {
  "kernelspec": {
   "display_name": "Python 3",
   "language": "python",
   "name": "python3"
  },
  "language_info": {
   "codemirror_mode": {
    "name": "ipython",
    "version": 2
   },
   "file_extension": ".py",
   "mimetype": "text/x-python",
   "name": "python",
   "nbconvert_exporter": "python",
   "pygments_lexer": "ipython2",
   "version": "2.7.6"
  }
 },
 "nbformat": 4,
 "nbformat_minor": 0
}