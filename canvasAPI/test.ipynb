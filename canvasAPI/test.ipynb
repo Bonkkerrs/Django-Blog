{
 "cells": [
  {
   "cell_type": "code",
   "execution_count": 1,
   "metadata": {
    "collapsed": true
   },
   "outputs": [],
   "source": [
    "import datetime"
   ]
  },
  {
   "cell_type": "code",
   "execution_count": 8,
   "outputs": [
    {
     "data": {
      "text/plain": "datetime.datetime(2022, 2, 24, 15, 59, 59)"
     },
     "execution_count": 8,
     "metadata": {},
     "output_type": "execute_result"
    }
   ],
   "source": [
    "due_at = '2022-02-24T15:59:59Z'\n",
    "format = '%Y-%m-%dT%H:%M:%SZ'\n",
    "due = datetime.datetime.strptime(due_at,format)\n",
    "due"
   ],
   "metadata": {
    "collapsed": false,
    "pycharm": {
     "name": "#%%\n"
    }
   }
  },
  {
   "cell_type": "code",
   "execution_count": 6,
   "outputs": [
    {
     "data": {
      "text/plain": "datetime.datetime(2022, 4, 15, 15, 9, 14, 990565)"
     },
     "execution_count": 6,
     "metadata": {},
     "output_type": "execute_result"
    }
   ],
   "source": [
    "now = datetime.datetime.now()\n",
    "now"
   ],
   "metadata": {
    "collapsed": false,
    "pycharm": {
     "name": "#%%\n"
    }
   }
  },
  {
   "cell_type": "code",
   "execution_count": 11,
   "outputs": [
    {
     "data": {
      "text/plain": "True"
     },
     "execution_count": 11,
     "metadata": {},
     "output_type": "execute_result"
    }
   ],
   "source": [
    "due < now"
   ],
   "metadata": {
    "collapsed": false,
    "pycharm": {
     "name": "#%%\n"
    }
   }
  },
  {
   "cell_type": "code",
   "execution_count": 15,
   "outputs": [
    {
     "name": "stdout",
     "output_type": "stream",
     "text": [
      "hi\n"
     ]
    }
   ],
   "source": [
    "if '2022-02-24T16:00:00Z':\n",
    "    print('hi')"
   ],
   "metadata": {
    "collapsed": false,
    "pycharm": {
     "name": "#%%\n"
    }
   }
  },
  {
   "cell_type": "code",
   "execution_count": 17,
   "outputs": [],
   "source": [
    "from canvasapi import Canvas\n",
    "API_URL = 'https://oc.sjtu.edu.cn'\n",
    "API_KEY = 'p7YhXM3h6PSXapEl7Fy57neXuM33zUPBTg5HXQbR21PInFp73XPSddUpGKG7fqG0'\n",
    "canvas = Canvas(API_URL, API_KEY)\n",
    "course = canvas.get_course('41491')"
   ],
   "metadata": {
    "collapsed": false,
    "pycharm": {
     "name": "#%%\n"
    }
   }
  },
  {
   "cell_type": "code",
   "execution_count": 19,
   "outputs": [
    {
     "data": {
      "text/plain": "{131521: 100.0,\n 131522: 100.0,\n 131523: None,\n 131525: None,\n 131526: 100.0,\n 131527: 100.0,\n 131528: 100.0,\n 131529: None,\n 131530: None}"
     },
     "execution_count": 19,
     "metadata": {},
     "output_type": "execute_result"
    }
   ],
   "source": [
    "submission_dict = {}\n",
    "for submission in course.get_multiple_submissions():\n",
    "    submission_dict[submission.assignment_id] = submission.score\n",
    "submission_dict"
   ],
   "metadata": {
    "collapsed": false,
    "pycharm": {
     "name": "#%%\n"
    }
   }
  },
  {
   "cell_type": "code",
   "execution_count": 20,
   "outputs": [
    {
     "data": {
      "text/plain": "100.0"
     },
     "execution_count": 20,
     "metadata": {},
     "output_type": "execute_result"
    }
   ],
   "source": [
    "submission_dict.get(131521)"
   ],
   "metadata": {
    "collapsed": false,
    "pycharm": {
     "name": "#%%\n"
    }
   }
  },
  {
   "cell_type": "code",
   "execution_count": 44,
   "outputs": [
    {
     "name": "stdout",
     "output_type": "stream",
     "text": [
      "None\n",
      "online_upload\n",
      "online_upload\n",
      "online_upload\n",
      "online_upload\n",
      "online_upload\n",
      "online_upload\n",
      "None\n",
      "None\n"
     ]
    }
   ],
   "source": [
    "assignment_groups = course.get_assignment_groups()\n",
    "for assignment_group in assignment_groups:\n",
    "    for assignment in course.get_assignments():\n",
    "        print(assignment.get_submission(374301).submission_type)"
   ],
   "metadata": {
    "collapsed": false,
    "pycharm": {
     "name": "#%%\n"
    }
   }
  },
  {
   "cell_type": "code",
   "execution_count": 41,
   "outputs": [
    {
     "data": {
      "text/plain": "Submission(_requester=<canvasapi.requester.Requester object at 0x7fb6394755e0>, id=5794960, body=None, url=None, grade=None, score=None, submitted_at=None, assignment_id=131523, user_id=374301, submission_type=None, workflow_state=unsubmitted, grade_matches_current_submission=True, graded_at=None, grader_id=None, attempt=None, cached_due_date=2022-04-22T15:59:00Z, cached_due_date_date=2022-04-22 15:59:00+00:00, excused=None, late_policy_status=None, points_deducted=None, grading_period_id=None, late=False, missing=False, seconds_late=0, entered_grade=None, entered_score=None, preview_url=https://oc.sjtu.edu.cn/courses/41491/assignments/131523/submissions/374301?preview=1&version=0, course_id=41491)"
     },
     "execution_count": 41,
     "metadata": {},
     "output_type": "execute_result"
    }
   ],
   "source": [
    "assignment.get_submission(374301)"
   ],
   "metadata": {
    "collapsed": false,
    "pycharm": {
     "name": "#%%\n"
    }
   }
  },
  {
   "cell_type": "code",
   "execution_count": 45,
   "outputs": [
    {
     "data": {
      "text/plain": "datetime.datetime(2022, 4, 15, 23, 58, 14, 538670)"
     },
     "execution_count": 45,
     "metadata": {},
     "output_type": "execute_result"
    }
   ],
   "source": [
    "datetime.datetime.now()"
   ],
   "metadata": {
    "collapsed": false,
    "pycharm": {
     "name": "#%%\n"
    }
   }
  },
  {
   "cell_type": "code",
   "execution_count": 55,
   "outputs": [],
   "source": [
    "import requests\n",
    "r= requests.get('https://oc.sjtu.edu.cn/files/4256602/download?download_frd=1&verifier=I0sQ5nHMvFRn8DaLy370WK8EYdGwBXoNUTRWZxjE')\n",
    "with open('1班课程群二维码.txt','wb+') as f:\n",
    "    f.write(r.content)"
   ],
   "metadata": {
    "collapsed": false,
    "pycharm": {
     "name": "#%%\n"
    }
   }
  },
  {
   "cell_type": "code",
   "execution_count": 52,
   "outputs": [
    {
     "data": {
      "text/plain": "'/Users/david/Library/1.jpg'"
     },
     "execution_count": 52,
     "metadata": {},
     "output_type": "execute_result"
    }
   ],
   "source": [
    "from os.path import join\n",
    "join('/Users/david','Library','1.jpg')"
   ],
   "metadata": {
    "collapsed": false,
    "pycharm": {
     "name": "#%%\n"
    }
   }
  },
  {
   "cell_type": "code",
   "execution_count": 56,
   "outputs": [
    {
     "data": {
      "text/plain": "datetime.timedelta(days=49, seconds=83355, microseconds=990565)"
     },
     "execution_count": 56,
     "metadata": {},
     "output_type": "execute_result"
    }
   ],
   "source": [
    "now - due"
   ],
   "metadata": {
    "collapsed": false,
    "pycharm": {
     "name": "#%%\n"
    }
   }
  },
  {
   "cell_type": "code",
   "execution_count": null,
   "outputs": [],
   "source": [],
   "metadata": {
    "collapsed": false,
    "pycharm": {
     "name": "#%%\n"
    }
   }
  }
 ],
 "metadata": {
  "kernelspec": {
   "display_name": "Python 3",
   "language": "python",
   "name": "python3"
  },
  "language_info": {
   "codemirror_mode": {
    "name": "ipython",
    "version": 2
   },
   "file_extension": ".py",
   "mimetype": "text/x-python",
   "name": "python",
   "nbconvert_exporter": "python",
   "pygments_lexer": "ipython2",
   "version": "2.7.6"
  }
 },
 "nbformat": 4,
 "nbformat_minor": 0
}